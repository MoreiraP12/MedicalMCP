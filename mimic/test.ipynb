{
 "cells": [
  {
   "cell_type": "code",
   "execution_count": 1,
   "metadata": {},
   "outputs": [
    {
     "ename": "ModuleNotFoundError",
     "evalue": "No module named 'google.cloud'",
     "output_type": "error",
     "traceback": [
      "\u001b[0;31m---------------------------------------------------------------------------\u001b[0m",
      "\u001b[0;31mModuleNotFoundError\u001b[0m                       Traceback (most recent call last)",
      "Cell \u001b[0;32mIn[1], line 3\u001b[0m\n\u001b[1;32m      1\u001b[0m \u001b[38;5;28;01mimport\u001b[39;00m \u001b[38;5;21;01mos\u001b[39;00m\n\u001b[1;32m      2\u001b[0m \u001b[38;5;28;01mfrom\u001b[39;00m \u001b[38;5;21;01mtyping\u001b[39;00m \u001b[38;5;28;01mimport\u001b[39;00m Any, Dict, Literal, Optional\n\u001b[0;32m----> 3\u001b[0m \u001b[38;5;28;01mfrom\u001b[39;00m \u001b[38;5;21;01mgoogle\u001b[39;00m\u001b[38;5;21;01m.\u001b[39;00m\u001b[38;5;21;01mcloud\u001b[39;00m \u001b[38;5;28;01mimport\u001b[39;00m bigquery\n\u001b[1;32m      4\u001b[0m \u001b[38;5;28;01mimport\u001b[39;00m \u001b[38;5;21;01mpandas\u001b[39;00m \u001b[38;5;28;01mas\u001b[39;00m \u001b[38;5;21;01mpd\u001b[39;00m\n\u001b[1;32m      5\u001b[0m \u001b[38;5;28;01mfrom\u001b[39;00m \u001b[38;5;21;01mpydantic\u001b[39;00m \u001b[38;5;28;01mimport\u001b[39;00m BaseModel, Field \u001b[38;5;66;03m# Using Pydantic for structured parameters\u001b[39;00m\n",
      "\u001b[0;31mModuleNotFoundError\u001b[0m: No module named 'google.cloud'"
     ]
    }
   ],
   "source": [
    "import os\n",
    "from typing import Any, Dict, Literal, Optional\n",
    "from google.cloud import bigquery\n",
    "import pandas as pd\n",
    "from pydantic import BaseModel, Field # Using Pydantic for structured parameters\n",
    "\n",
    "# Assuming FastMCP is installed and available\n",
    "# pip install fastmcp\n",
    "from mcp.server.fastmcp import FastMCP\n",
    "\n",
    "# --- Configuration ---\n",
    "\n",
    "# TODO: Replace with your Google Cloud Project ID if not automatically detected\n",
    "# GOOGLE_CLOUD_PROJECT = os.environ.get(\"GOOGLE_CLOUD_PROJECT\")\n",
    "# Using physionet-data as it's publicly accessible (with credentials)\n",
    "GOOGLE_CLOUD_PROJECT = \"physionet-data\"\n",
    "\n",
    "# TODO: Adjust dataset names if using a specific version or your own copy\n",
    "MIMIC_HOSP_DATASET = \"mimiciv_hosp\"\n",
    "MIMIC_ICU_DATASET = \"mimiciv_icu\" # Not used in current example, but potentially useful\n",
    "MIMIC_DERIVED_DATASET = \"mimic_derived\" # Not used, but potentially useful\n",
    "\n",
    "PROJECT_ID = \"level-strategy-383218\" \n",
    "BQ_DATASET = \"physionet-data\"  # The MIMIC-IV dataset in BigQuery\n",
    "\n",
    "# Setup BigQuery client\n",
    "try:\n",
    "    bq_client = bigquery.Client(project=PROJECT_ID)\n",
    "    print(f\"Connected to BigQuery project: {PROJECT_ID}\")\n",
    "    \n",
    "except Exception as e:\n",
    "    print(f\"Error connecting to BigQuery: {e}\")\n",
    "    print(\"Falling back to local data source.\")\n",
    "    USE_BIGQUERY = False"
   ]
  }
 ],
 "metadata": {
  "kernelspec": {
   "display_name": ".venv",
   "language": "python",
   "name": "python3"
  },
  "language_info": {
   "codemirror_mode": {
    "name": "ipython",
    "version": 3
   },
   "file_extension": ".py",
   "mimetype": "text/x-python",
   "name": "python",
   "nbconvert_exporter": "python",
   "pygments_lexer": "ipython3",
   "version": "3.12.4"
  }
 },
 "nbformat": 4,
 "nbformat_minor": 2
}
